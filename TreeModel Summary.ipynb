{
 "cells": [
  {
   "cell_type": "code",
   "execution_count": 6,
   "metadata": {},
   "outputs": [],
   "source": [
    "import numpy as np\n",
    "import pandas as pd\n",
    "import matplotlib.pyplot as plt\n",
    "from sklearn.model_selection import GridSearchCV\n",
    "from sklearn.model_selection import cross_val_score\n",
    "from sklearn import metrics\n",
    "\n",
    "%matplotlib inline"
   ]
  },
  {
   "cell_type": "code",
   "execution_count": 7,
   "metadata": {},
   "outputs": [],
   "source": [
    "#Decision Tree Model\n",
    "from sklearn import tree\n",
    "\n",
    "rf_model = tree.DecisionTreeClassifier()\n",
    "rf_model.fit(x_train, y_train)\n",
    "y_pred = rf_model.predict(x_test)\n",
    "metrics.accuracy_score(y_test, y_pred)"
   ]
  },
  {
   "cell_type": "code",
   "execution_count": null,
   "metadata": {},
   "outputs": [],
   "source": [
    "from sklearn.model_selection import GridSearchCV\n",
    "param_grid = { \"criterion\"      : ['gini', 'entropy'],    \n",
    "               \"max_features\"   : [1, 2 ],             \n",
    "               \"splitter\"       : ['best', 'random'],  \n",
    "               \"min_samples_split\"  : [2, 3],\n",
    "               \"min_samples_leaf\" : [2, 3]\n",
    "                }\n",
    "optimized_tree = GridSearchCV(ctree_model, param_grid, scoring = 'accuracy', verbose=2, cv=5)\n",
    "optimized_tree.best_estimator_\n",
    "optimized_tree.best_score_\n",
    "optimized_tree.best_params_\n",
    "optimized_tree.grid_scores_"
   ]
  },
  {
   "cell_type": "code",
   "execution_count": null,
   "metadata": {},
   "outputs": [],
   "source": [
    "# Random Forest Model\n",
    "from sklearn.ensemble import RandomForestClassifier\n",
    "\n",
    "rf_model = RandomForestClassifier()\n",
    "rf_model.fit(x_train, y_train)\n",
    "y_pred = rf_model.predict(x_test)\n",
    "metrics.accuracy_score(y_test, y_pred)"
   ]
  },
  {
   "cell_type": "code",
   "execution_count": null,
   "metadata": {},
   "outputs": [],
   "source": [
    "from sklearn.model_selection import RandomizedSearchCV\n",
    "param_grid = { \"n_estimators\"      : [100,500],\n",
    "                \"criterion\"         : ['gini', 'entropy'],       \n",
    "                \"max_features\"      : [3, 4, 5],     \n",
    "                \"min_samples_leaf\"  : [10, 15, 16, 20]\n",
    "                \"class_weight\"      : [{0:1, 1:1}, {0:1, 1:4}]\n",
    "                }\n",
    "random_rf = RandomizedSearchCV(rf_model, n_iter=10, param_distributions=param_grid , scoring='accuracy', cv=5 )\n",
    "random_rf.fit(x_train, y_train)\n",
    "random_rf.grid_scores_\n",
    "random_rf.best_params_\n",
    "random_rf.best_score_\n",
    "random_rf.best_estimator_"
   ]
  },
  {
   "cell_type": "code",
   "execution_count": null,
   "metadata": {},
   "outputs": [],
   "source": []
  }
 ],
 "metadata": {
  "kernelspec": {
   "display_name": "Python 3",
   "language": "python",
   "name": "python3"
  },
  "language_info": {
   "codemirror_mode": {
    "name": "ipython",
    "version": 3
   },
   "file_extension": ".py",
   "mimetype": "text/x-python",
   "name": "python",
   "nbconvert_exporter": "python",
   "pygments_lexer": "ipython3",
   "version": "3.6.5"
  }
 },
 "nbformat": 4,
 "nbformat_minor": 2
}
